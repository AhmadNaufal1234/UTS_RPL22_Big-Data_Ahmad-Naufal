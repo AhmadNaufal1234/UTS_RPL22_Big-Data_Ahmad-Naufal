{
 "cells": [
  {
   "cell_type": "code",
   "execution_count": null,
   "id": "ad787c91",
   "metadata": {},
   "outputs": [],
   "source": [
    "import requests\n",
    "import pandas as pd\n",
    "import time\n",
    "import random\n",
    "import xml.etree.ElementTree as ET\n",
    "from datetime import datetime\n",
    "import matplotlib.pyplot as plt\n",
    "\n",
    "RSS_FEEDS = {\n",
    "    \"Antara\": \"https://www.antaranews.com/rss/lifestyle.xml\",\n",
    "    \"Liputan6\": \"https://feed.liputan6.com/rss/lifestyle\",\n",
    "    \"Okezone\": \"https://sindikasi.okezone.com/index.php/rss/0/Lifestyle\"\n",
    "}\n",
    "\n",
    "HEADERS = {\n",
    "    \"User-Agent\": \"Mozilla/5.0 (Windows NT 10.0; Win64; x64) AppleWebKit/537.36 (KHTML, like Gecko) Chrome/120.0.0.0 Safari/537.36\"\n",
    "}"
   ]
  },
  {
   "cell_type": "code",
   "execution_count": null,
   "id": "05780bcf",
   "metadata": {},
   "outputs": [],
   "source": [
    "def scrape_rss(source_name, url, max_articles=20):\n",
    "    print(f\"\\n🔍 Scraping {source_name} RSS (kategori: Lifestyle)...\")\n",
    "    articles = []\n",
    "\n",
    "    try:\n",
    "        response = requests.get(url, headers=HEADERS, timeout=10)\n",
    "        if response.status_code != 200:\n",
    "            print(f\"⚠️ Gagal akses {source_name}: {response.status_code}\")\n",
    "            return articles\n",
    "\n",
    "        root = ET.fromstring(response.content)\n",
    "        items = root.findall(\".//item\")\n",
    "\n",
    "        for item in items[:max_articles]:\n",
    "            title = item.find(\"title\").text if item.find(\"title\") is not None else None\n",
    "            link = item.find(\"link\").text if item.find(\"link\") is not None else None\n",
    "            pub_date = item.find(\"pubDate\").text if item.find(\"pubDate\") is not None else None\n",
    "            description = item.find(\"description\").text if item.find(\"description\") is not None else None\n",
    "\n",
    "            # 🔹 Kategorinya langsung set ke \"Lifestyle\"\n",
    "            categories = [\"Lifestyle\"]\n",
    "\n",
    "            # 🔹 Format tanggal ISO 8601\n",
    "            try:\n",
    "                pub_date = datetime.strptime(pub_date[:25], \"%a, %d %b %Y %H:%M:%S\").isoformat()\n",
    "            except:\n",
    "                pub_date = None\n",
    "\n",
    "            articles.append({\n",
    "                \"title\": title,\n",
    "                \"url\": link,\n",
    "                \"categories\": categories,\n",
    "                \"summary\": description,\n",
    "                \"source\": source_name,\n",
    "                \"published_at\": pub_date,\n",
    "                \"scraped_at\": datetime.now().isoformat()\n",
    "            })\n",
    "\n",
    "            time.sleep(random.uniform(0.5, 1.2))  # jeda antar artikel\n",
    "\n",
    "        time.sleep(random.uniform(1, 2))  # jeda antar sumber\n",
    "        print(f\"✅ Berhasil ambil {len(articles)} artikel dari {source_name} (kategori: Lifestyle)\")\n",
    "        return articles\n",
    "\n",
    "    except Exception as e:\n",
    "        print(f\"⚠️ Error saat scrape {source_name}: {e}\")\n",
    "        return articles"
   ]
  },
  {
   "cell_type": "code",
   "execution_count": null,
   "id": "afb9e1cd",
   "metadata": {},
   "outputs": [
    {
     "name": "stdout",
     "output_type": "stream",
     "text": [
      "\n",
      "🔍 Scraping Antara RSS (kategori: Lifestyle)...\n",
      "✅ Berhasil ambil 20 artikel dari Antara (kategori: Lifestyle)\n",
      "\n",
      "🔍 Scraping Liputan6 RSS (kategori: Lifestyle)...\n",
      "✅ Berhasil ambil 20 artikel dari Liputan6 (kategori: Lifestyle)\n",
      "\n",
      "🔍 Scraping Okezone RSS (kategori: Lifestyle)...\n",
      "✅ Berhasil ambil 20 artikel dari Okezone (kategori: Lifestyle)\n",
      "\n",
      "Total artikel sebelum pembersihan: 60\n"
     ]
    }
   ],
   "source": [
    "all_articles = []\n",
    "for source, url in RSS_FEEDS.items():\n",
    "    data = scrape_rss(source, url, max_articles=20)\n",
    "    all_articles.extend(data)\n",
    "\n",
    "print(f\"\\nTotal artikel sebelum pembersihan: {len(all_articles)}\")"
   ]
  },
  {
   "cell_type": "code",
   "execution_count": null,
   "id": "c5f61dc3",
   "metadata": {},
   "outputs": [],
   "source": [
    "df = pd.DataFrame(all_articles)\n",
    "df.drop_duplicates(subset=[\"title\"], inplace=True)\n",
    "df.dropna(subset=[\"title\"], inplace=True)\n",
    "df = df.head(50)"
   ]
  },
  {
   "cell_type": "code",
   "execution_count": null,
   "id": "fa73444b",
   "metadata": {},
   "outputs": [
    {
     "name": "stdout",
     "output_type": "stream",
     "text": [
      "\n",
      "📁 Dataset disimpan sebagai 'news_dataset.csv' (50 artikel)\n"
     ]
    }
   ],
   "source": [
    "df.to_csv(\"news_dataset.csv\", index=False, encoding=\"utf-8-sig\")\n",
    "print(f\"\\n📁 Dataset disimpan sebagai 'news_dataset.csv' ({len(df)} artikel)\")"
   ]
  },
  {
   "cell_type": "code",
   "execution_count": null,
   "id": "28676281",
   "metadata": {},
   "outputs": [
    {
     "name": "stdout",
     "output_type": "stream",
     "text": [
      "\n",
      "📊 ANALISIS DESKRIPTIF DATASET\n",
      "\n",
      "📌 Jumlah Artikel per Sumber:\n",
      "source\n",
      "Antara      20\n",
      "Liputan6    20\n",
      "Okezone     10\n",
      "Name: count, dtype: int64\n",
      "\n",
      "🗓️ Rentang Tanggal Publikasi: 2025-10-24 — 2025-10-29\n",
      "\n",
      "🔥 Kata Kunci Populer (dari kolom summary):\n",
      "- yang (23x)\n",
      "- https (20x)\n",
      "- antaranews (20x)\n",
      "- cache (20x)\n",
      "- align (20x)\n"
     ]
    }
   ],
   "source": [
    "print(\"\\n📊 ANALISIS DESKRIPTIF DATASET\")\n",
    "\n",
    "# Pastikan kolom tanggal valid (ada atau tidak)\n",
    "if 'published_at' in df.columns:\n",
    "    df['published_at'] = pd.to_datetime(df['published_at'], errors='coerce')\n",
    "    tanggal_valid = df['published_at'].dropna()\n",
    "    if not tanggal_valid.empty:\n",
    "        rentang_tanggal = f\"{tanggal_valid.min().date()} — {tanggal_valid.max().date()}\"\n",
    "    else:\n",
    "        rentang_tanggal = \"Tanggal publikasi tidak tersedia\"\n",
    "else:\n",
    "    rentang_tanggal = \"Kolom tanggal tidak ditemukan\"\n",
    "\n",
    "# --- Jumlah artikel per sumber ---\n",
    "artikel_per_sumber = df['source'].value_counts()\n",
    "\n",
    "# Misalnya, kita ambil kata-kata populer dari kolom summary\n",
    "from collections import Counter\n",
    "import re\n",
    "\n",
    "def ambil_kata_populer(text_series, top_n=5):\n",
    "    all_words = []\n",
    "    for text in text_series.dropna():\n",
    "        words = re.findall(r'\\b[a-zA-Z]{4,}\\b', text.lower())\n",
    "        all_words.extend(words)\n",
    "    return Counter(all_words).most_common(top_n)\n",
    "\n",
    "kata_populer = ambil_kata_populer(df['summary'], top_n=5)\n",
    "\n",
    "# --- Tampilkan hasil deskriptif ---\n",
    "print(\"\\n📌 Jumlah Artikel per Sumber:\")\n",
    "print(artikel_per_sumber)\n",
    "print(f\"\\n🗓️ Rentang Tanggal Publikasi: {rentang_tanggal}\")\n",
    "\n",
    "print(\"\\n🔥 Kata Kunci Populer (dari kolom summary):\")\n",
    "for kata, jumlah in kata_populer:\n",
    "    print(f\"- {kata} ({jumlah}x)\")\n"
   ]
  },
  {
   "cell_type": "code",
   "execution_count": null,
   "id": "56e51343",
   "metadata": {},
   "outputs": [
    {
     "data": {
      "image/png": "[encoded data removed]",
      "text/plain": [
       "<Figure size 700x400 with 1 Axes>"
      ]
     },
     "metadata": {},
     "output_type": "display_data"
    }
   ],
   "source": [
    "import matplotlib.pyplot as plt\n",
    "\n",
    "plt.figure(figsize=(7,4))\n",
    "artikel_per_sumber.plot(kind='bar', color='skyblue', edgecolor='black')\n",
    "plt.title(\"Jumlah Artikel per Sumber Portal Berita\")\n",
    "plt.xlabel(\"Portal Berita\")\n",
    "plt.ylabel(\"Jumlah Artikel\")\n",
    "plt.xticks(rotation=0)\n",
    "plt.tight_layout()\n",
    "plt.show()"
   ]
  },
  {
   "cell_type": "code",
   "execution_count": null,
   "id": "3494990d",
   "metadata": {},
   "outputs": [],
   "source": []
  }
 ],
 "metadata": {
  "kernelspec": {
   "display_name": ".venv",
   "language": "python",
   "name": "python3"
  },
  "language_info": {
   "codemirror_mode": {
    "name": "ipython",
    "version": 3
   },
   "file_extension": ".py",
   "mimetype": "text/x-python",
   "name": "python",
   "nbconvert_exporter": "python",
   "pygments_lexer": "ipython3",
   "version": "3.14.0"
  }
 },
 "nbformat": 4,
 "nbformat_minor": 5
}
